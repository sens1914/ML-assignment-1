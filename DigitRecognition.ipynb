{
 "cells": [
  {
   "cell_type": "code",
   "execution_count": 1,
   "id": "28d10191-4bfe-4a89-bac5-d1c0dc168b0b",
   "metadata": {},
   "outputs": [],
   "source": [
    "# Step 1: Import required libraries\n",
    "import tensorflow as tf  # Main deep learning framework\n",
    "from tensorflow.keras import layers, models  # For building neural networks\n",
    "import matplotlib.pyplot as plt  # For displaying images and graphs\n",
    "import numpy as np  # For handling numerical data efficiently"
   ]
  },
  {
   "cell_type": "code",
   "execution_count": 3,
   "id": "db219789-15b4-408a-b3d9-a204983bbd75",
   "metadata": {},
   "outputs": [],
   "source": [
    "# Step 2: Load the MNIST dataset\n",
    "# MNIST comes preloaded with TensorFlow, so no extra download is needed.\n",
    "(x_train, y_train), (x_test, y_test) = tf.keras.datasets.mnist.load_data()"
   ]
  },
  {
   "cell_type": "code",
   "execution_count": 5,
   "id": "2c22d66a-3d79-40ed-b0bf-f060b42448f0",
   "metadata": {},
   "outputs": [],
   "source": [
    "# Step 3: Normalize the data\n",
    "# Pixel values in images are from 0 to 255.\n",
    "# Neural networks work better when inputs are between 0 and 1.\n",
    "x_train = x_train / 255.0  # Scale training images\n",
    "x_test = x_test / 255.0    # Scale testing images"
   ]
  },
  {
   "cell_type": "code",
   "execution_count": 7,
   "id": "169e2d9f-bca8-4321-a268-faf9d5f5a7f3",
   "metadata": {},
   "outputs": [
    {
     "name": "stdout",
     "output_type": "stream",
     "text": [
      "Training data shape: (60000, 28, 28)\n",
      "Testing data shape: (10000, 28, 28)\n"
     ]
    }
   ],
   "source": [
    "# Step 4: Check the shape of data\n",
    "print(\"Training data shape:\", x_train.shape)  # (60000, 28, 28)\n",
    "print(\"Testing data shape:\", x_test.shape)    # (10000, 28, 28)"
   ]
  },
  {
   "cell_type": "code",
   "execution_count": 15,
   "id": "b564b26b-2476-4aa6-a9dc-7a0eaaf6dd9f",
   "metadata": {},
   "outputs": [
    {
     "data": {
      "image/png": "[encoded data removed]",
      "text/plain": [
       "<Figure size 640x480 with 1 Axes>"
      ]
     },
     "metadata": {},
     "output_type": "display_data"
    }
   ],
   "source": [
    "# Step 5: Visualize the first image in the training set\n",
    "plt.imshow(x_train[0], cmap='gray')  # Show first digit image in grayscale\n",
    "plt.title(f\"Label: {y_train[0]}\")  # Show the correct label\n",
    "plt.show()"
   ]
  },
  {
   "cell_type": "code",
   "execution_count": 17,
   "id": "5c279129-842f-4490-bac9-ac2aacc97dba",
   "metadata": {},
   "outputs": [
    {
     "name": "stderr",
     "output_type": "stream",
     "text": [
      "C:\\Users\\senda\\anaconda3\\Lib\\site-packages\\keras\\src\\layers\\reshaping\\flatten.py:37: UserWarning: Do not pass an `input_shape`/`input_dim` argument to a layer. When using Sequential models, prefer using an `Input(shape)` object as the first layer in the model instead.\n",
      "  super().__init__(**kwargs)\n"
     ]
    }
   ],
   "source": [
    "# Step 6: Build the neural network model\n",
    "model = models.Sequential([\n",
    "    layers.Flatten(input_shape=(28, 28)),        # Convert each 28x28 image into a 1D array of 784 pixels\n",
    "    layers.Dense(128, activation='relu'),        # First hidden layer with 128 neurons, using ReLU activation\n",
    "    layers.Dense(10, activation='softmax')       # Output layer with 10 neurons (one for each digit 0-9)\n",
    "])"
   ]
  },
  {
   "cell_type": "code",
   "execution_count": 19,
   "id": "bcd02fcf-9e82-441d-b931-c2cfe2da84a6",
   "metadata": {},
   "outputs": [],
   "source": [
    "# Step 7: Compile the model\n",
    "model.compile(\n",
    "    optimizer='adam',                            # Optimizer that updates weights efficiently\n",
    "    loss='sparse_categorical_crossentropy',      # Loss function for multi-class classification\n",
    "    metrics=['accuracy']                         # We want to track accuracy during training/testing\n",
    ")"
   ]
  },
  {
   "cell_type": "code",
   "execution_count": 21,
   "id": "572af6ff-74a2-4e58-bc85-1aafe9b30a49",
   "metadata": {},
   "outputs": [
    {
     "name": "stdout",
     "output_type": "stream",
     "text": [
      "Epoch 1/5\n",
      "\u001b[1m1875/1875\u001b[0m \u001b[32m━━━━━━━━━━━━━━━━━━━━\u001b[0m\u001b[37m\u001b[0m \u001b[1m6s\u001b[0m 3ms/step - accuracy: 0.9250 - loss: 0.2647\n",
      "Epoch 2/5\n",
      "\u001b[1m1875/1875\u001b[0m \u001b[32m━━━━━━━━━━━━━━━━━━━━\u001b[0m\u001b[37m\u001b[0m \u001b[1m5s\u001b[0m 3ms/step - accuracy: 0.9653 - loss: 0.1174\n",
      "Epoch 3/5\n",
      "\u001b[1m1875/1875\u001b[0m \u001b[32m━━━━━━━━━━━━━━━━━━━━\u001b[0m\u001b[37m\u001b[0m \u001b[1m5s\u001b[0m 2ms/step - accuracy: 0.9763 - loss: 0.0800\n",
      "Epoch 4/5\n",
      "\u001b[1m1875/1875\u001b[0m \u001b[32m━━━━━━━━━━━━━━━━━━━━\u001b[0m\u001b[37m\u001b[0m \u001b[1m5s\u001b[0m 3ms/step - accuracy: 0.9819 - loss: 0.0602\n",
      "Epoch 5/5\n",
      "\u001b[1m1875/1875\u001b[0m \u001b[32m━━━━━━━━━━━━━━━━━━━━\u001b[0m\u001b[37m\u001b[0m \u001b[1m5s\u001b[0m 3ms/step - accuracy: 0.9857 - loss: 0.0467\n"
     ]
    },
    {
     "data": {
      "text/plain": [
       "<keras.src.callbacks.history.History at 0x208d73ff380>"
      ]
     },
     "execution_count": 21,
     "metadata": {},
     "output_type": "execute_result"
    }
   ],
   "source": [
    "# Step 8: Train the model\n",
    "model.fit(x_train, y_train, epochs=5)  # Train for 5 passes through the dataset\n"
   ]
  },
  {
   "cell_type": "code",
   "execution_count": 22,
   "id": "1f48b4e2-47c3-48dc-bc1c-0442017c5b7c",
   "metadata": {},
   "outputs": [
    {
     "name": "stdout",
     "output_type": "stream",
     "text": [
      "313/313 - 1s - 3ms/step - accuracy: 0.9751 - loss: 0.0832\n",
      "\n",
      "Test accuracy: 0.9750999808311462\n"
     ]
    }
   ],
   "source": [
    "# Step 9: Evaluate the model\n",
    "test_loss, test_acc = model.evaluate(x_test, y_test, verbose=2)  # Check accuracy on test set\n",
    "print('\\nTest accuracy:', test_acc)"
   ]
  },
  {
   "cell_type": "code",
   "execution_count": 25,
   "id": "7b08d1ee-2ad9-4bba-b8de-68b76484d837",
   "metadata": {},
   "outputs": [
    {
     "name": "stdout",
     "output_type": "stream",
     "text": [
      "\u001b[1m313/313\u001b[0m \u001b[32m━━━━━━━━━━━━━━━━━━━━\u001b[0m\u001b[37m\u001b[0m \u001b[1m1s\u001b[0m 2ms/step\n"
     ]
    }
   ],
   "source": [
    "# Step 10: Make predictions\n",
    "predictions = model.predict(x_test)  # Model outputs probabilities for each class"
   ]
  },
  {
   "cell_type": "code",
   "execution_count": 32,
   "id": "950365f8-f2de-466a-bcf5-be26019ea621",
   "metadata": {},
   "outputs": [
    {
     "data": {
      "image/png": "[encoded data removed]",
      "text/plain": [
       "<Figure size 640x480 with 1 Axes>"
      ]
     },
     "metadata": {},
     "output_type": "display_data"
    }
   ],
   "source": [
    "# Step 11: Display a sample prediction\n",
    "sample_index = 0  # First image from test set\n",
    "plt.imshow(x_test[sample_index], cmap='gray')  # Show image\n",
    "plt.title(f\"Model Prediction: {np.argmax(predictions[sample_index])} | True Label: {y_test[sample_index]}\")\n",
    "plt.show()"
   ]
  },
  {
   "cell_type": "code",
   "execution_count": null,
   "id": "a7ab13fc-2f9c-45e0-9f4c-00f8f85e7219",
   "metadata": {},
   "outputs": [],
   "source": []
  }
 ],
 "metadata": {
  "kernelspec": {
   "display_name": "Python [conda env:base] *",
   "language": "python",
   "name": "conda-base-py"
  },
  "language_info": {
   "codemirror_mode": {
    "name": "ipython",
    "version": 3
   },
   "file_extension": ".py",
   "mimetype": "text/x-python",
   "name": "python",
   "nbconvert_exporter": "python",
   "pygments_lexer": "ipython3",
   "version": "3.12.7"
  }
 },
 "nbformat": 4,
 "nbformat_minor": 5
}
